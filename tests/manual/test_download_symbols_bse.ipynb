{
 "cells": [
  {
   "cell_type": "code",
   "execution_count": 1,
   "metadata": {},
   "outputs": [],
   "source": [
    "headers = {\n",
    "    \"accept\": \"application/json, text/plain, */*\",\n",
    "    \"accept-language\": \"en-GB,en-US;q=0.9,en;q=0.8,hi;q=0.7\",\n",
    "    \"dnt\": \"1\",\n",
    "    \"if-modified-since\": \"Sun, 24 Mar 2024 11:21:31 GMT\",\n",
    "    \"origin\": \"https://www.bseindia.com\",\n",
    "    \"referer\": \"https://www.bseindia.com/\",\n",
    "    \"sec-ch-ua\": '\"Google Chrome\";v=\"123\", \"Not:A-Brand\";v=\"8\", \"Chromium\";v=\"123\"',\n",
    "    \"sec-ch-ua-mobile\": \"?0\",\n",
    "    \"sec-ch-ua-platform\": '\"Windows\"',\n",
    "    \"sec-fetch-dest\": \"empty\",\n",
    "    \"sec-fetch-mode\": \"cors\",\n",
    "    \"sec-fetch-site\": \"same-site\",\n",
    "    \"user-agent\": \"Mozilla/5.0 (Windows NT 10.0; Win64; x64) AppleWebKit/537.36 (KHTML, like Gecko) Chrome/123.0.0.0 Safari/537.36\",\n",
    "}"
   ]
  },
  {
   "cell_type": "code",
   "execution_count": 2,
   "metadata": {},
   "outputs": [],
   "source": [
    "from core.brokers.base.base import Broker\n",
    "temp_session = Broker._create_session()"
   ]
  },
  {
   "cell_type": "code",
   "execution_count": 3,
   "metadata": {},
   "outputs": [],
   "source": [
    "response = temp_session.request(\n",
    "    method=\"GET\", url=\"https://www.nseindia.com/option-chain\", headers=headers\n",
    ")\n",
    "Broker.cookies = dict(response.cookies)\n"
   ]
  },
  {
   "cell_type": "markdown",
   "metadata": {},
   "source": [
    "BankNifty Expiry Dates"
   ]
  },
  {
   "cell_type": "code",
   "execution_count": 4,
   "metadata": {},
   "outputs": [
    {
     "name": "stdout",
     "output_type": "stream",
     "text": [
      "{'Table': [{'StrikePrice': '51,800.00'}, {'StrikePrice': '51,900.00'}, {'StrikePrice': '52,000.00'}, {'StrikePrice': '52,100.00'}, {'StrikePrice': '52,200.00'}, {'StrikePrice': '52,300.00'}, {'StrikePrice': '52,400.00'}, {'StrikePrice': '52,500.00'}, {'StrikePrice': '52,600.00'}, {'StrikePrice': '52,700.00'}, {'StrikePrice': '52,800.00'}, {'StrikePrice': '52,900.00'}, {'StrikePrice': '53,000.00'}, {'StrikePrice': '53,100.00'}, {'StrikePrice': '53,200.00'}, {'StrikePrice': '53,300.00'}, {'StrikePrice': '53,400.00'}, {'StrikePrice': '53,500.00'}, {'StrikePrice': '53,600.00'}, {'StrikePrice': '53,700.00'}, {'StrikePrice': '53,800.00'}, {'StrikePrice': '53,900.00'}, {'StrikePrice': '54,000.00'}, {'StrikePrice': '54,100.00'}, {'StrikePrice': '54,200.00'}, {'StrikePrice': '54,300.00'}, {'StrikePrice': '54,400.00'}, {'StrikePrice': '54,500.00'}, {'StrikePrice': '54,600.00'}, {'StrikePrice': '54,700.00'}, {'StrikePrice': '54,800.00'}, {'StrikePrice': '54,900.00'}, {'StrikePrice': '55,000.00'}, {'StrikePrice': '55,100.00'}, {'StrikePrice': '55,200.00'}, {'StrikePrice': '55,300.00'}, {'StrikePrice': '55,400.00'}, {'StrikePrice': '55,500.00'}, {'StrikePrice': '55,600.00'}, {'StrikePrice': '55,700.00'}, {'StrikePrice': '55,800.00'}, {'StrikePrice': '55,900.00'}, {'StrikePrice': '56,000.00'}, {'StrikePrice': '56,100.00'}, {'StrikePrice': '56,200.00'}, {'StrikePrice': '56,300.00'}, {'StrikePrice': '56,400.00'}, {'StrikePrice': '56,500.00'}, {'StrikePrice': '56,600.00'}, {'StrikePrice': '56,700.00'}, {'StrikePrice': '56,800.00'}, {'StrikePrice': '56,900.00'}, {'StrikePrice': '57,000.00'}, {'StrikePrice': '57,100.00'}, {'StrikePrice': '57,200.00'}, {'StrikePrice': '57,300.00'}, {'StrikePrice': '57,400.00'}, {'StrikePrice': '57,500.00'}, {'StrikePrice': '57,600.00'}, {'StrikePrice': '57,700.00'}, {'StrikePrice': '57,800.00'}, {'StrikePrice': '57,900.00'}, {'StrikePrice': '58,000.00'}, {'StrikePrice': '58,100.00'}, {'StrikePrice': '58,200.00'}, {'StrikePrice': '58,300.00'}, {'StrikePrice': '58,400.00'}, {'StrikePrice': '58,500.00'}, {'StrikePrice': '58,600.00'}, {'StrikePrice': '58,700.00'}, {'StrikePrice': '58,800.00'}, {'StrikePrice': '58,900.00'}, {'StrikePrice': '59,000.00'}, {'StrikePrice': '59,100.00'}, {'StrikePrice': '59,200.00'}, {'StrikePrice': '59,300.00'}, {'StrikePrice': '59,400.00'}, {'StrikePrice': '59,500.00'}, {'StrikePrice': '59,600.00'}, {'StrikePrice': '59,700.00'}, {'StrikePrice': '59,800.00'}, {'StrikePrice': '59,900.00'}, {'StrikePrice': '60,000.00'}, {'StrikePrice': '60,100.00'}, {'StrikePrice': '60,200.00'}, {'StrikePrice': '60,300.00'}, {'StrikePrice': '60,400.00'}, {'StrikePrice': '60,500.00'}, {'StrikePrice': '60,600.00'}, {'StrikePrice': '60,700.00'}, {'StrikePrice': '60,800.00'}, {'StrikePrice': '60,900.00'}, {'StrikePrice': '61,000.00'}, {'StrikePrice': '61,100.00'}, {'StrikePrice': '61,200.00'}, {'StrikePrice': '61,300.00'}, {'StrikePrice': '61,400.00'}, {'StrikePrice': '61,500.00'}, {'StrikePrice': '61,600.00'}, {'StrikePrice': '61,700.00'}, {'StrikePrice': '61,800.00'}, {'StrikePrice': '61,900.00'}, {'StrikePrice': '62,000.00'}, {'StrikePrice': '62,100.00'}, {'StrikePrice': '62,200.00'}, {'StrikePrice': '62,300.00'}, {'StrikePrice': '62,400.00'}, {'StrikePrice': '62,500.00'}, {'StrikePrice': '62,600.00'}, {'StrikePrice': '62,700.00'}, {'StrikePrice': '62,800.00'}, {'StrikePrice': '62,900.00'}, {'StrikePrice': '63,000.00'}, {'StrikePrice': '63,100.00'}, {'StrikePrice': '63,200.00'}, {'StrikePrice': '63,300.00'}, {'StrikePrice': '63,400.00'}, {'StrikePrice': '63,500.00'}, {'StrikePrice': '63,600.00'}, {'StrikePrice': '63,700.00'}, {'StrikePrice': '63,800.00'}, {'StrikePrice': '63,900.00'}, {'StrikePrice': '64,000.00'}, {'StrikePrice': '64,100.00'}, {'StrikePrice': '64,200.00'}, {'StrikePrice': '64,300.00'}, {'StrikePrice': '64,400.00'}, {'StrikePrice': '64,500.00'}, {'StrikePrice': '64,600.00'}], 'Table1': [{'ORDERDTTM': '8/26/2024 12:00:00 AM', 'ExpiryDate': '26 Aug 2024'}, {'ORDERDTTM': '9/2/2024 12:00:00 AM', 'ExpiryDate': '02 Sep 2024'}, {'ORDERDTTM': '9/9/2024 12:00:00 AM', 'ExpiryDate': '09 Sep 2024'}, {'ORDERDTTM': '9/16/2024 12:00:00 AM', 'ExpiryDate': '16 Sep 2024'}, {'ORDERDTTM': '9/23/2024 12:00:00 AM', 'ExpiryDate': '23 Sep 2024'}, {'ORDERDTTM': '9/30/2024 12:00:00 AM', 'ExpiryDate': '30 Sep 2024'}, {'ORDERDTTM': '10/7/2024 12:00:00 AM', 'ExpiryDate': '07 Oct 2024'}, {'ORDERDTTM': '10/28/2024 12:00:00 AM', 'ExpiryDate': '28 Oct 2024'}], 'Table2': [{'DisplayIndexName': 'BSE BANKEX', 'AssetTokenNumber': '12', 'UlaValue': '58058.35'}]}\n"
     ]
    }
   ],
   "source": [
    "from core.brokers.base.constants import Root\n",
    "\n",
    "Broker.download_expiry_dates_bfo(Root.BANKEX)"
   ]
  },
  {
   "cell_type": "code",
   "execution_count": 5,
   "metadata": {},
   "outputs": [
    {
     "data": {
      "text/plain": [
       "{'BANKEX': ['2024-08-26',\n",
       "  '2024-09-02',\n",
       "  '2024-09-09',\n",
       "  '2024-09-16',\n",
       "  '2024-09-23',\n",
       "  '2024-09-30',\n",
       "  '2024-10-07',\n",
       "  '2024-10-28']}"
      ]
     },
     "execution_count": 5,
     "metadata": {},
     "output_type": "execute_result"
    }
   ],
   "source": [
    "Broker.expiry_dates"
   ]
  },
  {
   "cell_type": "markdown",
   "metadata": {},
   "source": [
    "SENSEX Expiry Dates"
   ]
  },
  {
   "cell_type": "code",
   "execution_count": 6,
   "metadata": {},
   "outputs": [
    {
     "name": "stdout",
     "output_type": "stream",
     "text": [
      "{'Table': [{'StrikePrice': '65,000.00'}, {'StrikePrice': '66,000.00'}, {'StrikePrice': '67,000.00'}, {'StrikePrice': '68,000.00'}, {'StrikePrice': '69,000.00'}, {'StrikePrice': '70,000.00'}, {'StrikePrice': '70,100.00'}, {'StrikePrice': '70,200.00'}, {'StrikePrice': '70,300.00'}, {'StrikePrice': '70,400.00'}, {'StrikePrice': '70,500.00'}, {'StrikePrice': '70,600.00'}, {'StrikePrice': '70,700.00'}, {'StrikePrice': '70,800.00'}, {'StrikePrice': '70,900.00'}, {'StrikePrice': '71,000.00'}, {'StrikePrice': '71,100.00'}, {'StrikePrice': '71,200.00'}, {'StrikePrice': '71,300.00'}, {'StrikePrice': '71,400.00'}, {'StrikePrice': '71,500.00'}, {'StrikePrice': '71,600.00'}, {'StrikePrice': '71,700.00'}, {'StrikePrice': '71,800.00'}, {'StrikePrice': '71,900.00'}, {'StrikePrice': '72,000.00'}, {'StrikePrice': '72,100.00'}, {'StrikePrice': '72,200.00'}, {'StrikePrice': '72,300.00'}, {'StrikePrice': '72,400.00'}, {'StrikePrice': '72,500.00'}, {'StrikePrice': '72,600.00'}, {'StrikePrice': '72,700.00'}, {'StrikePrice': '72,800.00'}, {'StrikePrice': '72,900.00'}, {'StrikePrice': '73,000.00'}, {'StrikePrice': '73,100.00'}, {'StrikePrice': '73,200.00'}, {'StrikePrice': '73,300.00'}, {'StrikePrice': '73,400.00'}, {'StrikePrice': '73,500.00'}, {'StrikePrice': '73,600.00'}, {'StrikePrice': '73,700.00'}, {'StrikePrice': '73,800.00'}, {'StrikePrice': '73,900.00'}, {'StrikePrice': '74,000.00'}, {'StrikePrice': '74,100.00'}, {'StrikePrice': '74,200.00'}, {'StrikePrice': '74,300.00'}, {'StrikePrice': '74,400.00'}, {'StrikePrice': '74,500.00'}, {'StrikePrice': '74,600.00'}, {'StrikePrice': '74,700.00'}, {'StrikePrice': '74,800.00'}, {'StrikePrice': '74,900.00'}, {'StrikePrice': '75,000.00'}, {'StrikePrice': '75,100.00'}, {'StrikePrice': '75,200.00'}, {'StrikePrice': '75,300.00'}, {'StrikePrice': '75,400.00'}, {'StrikePrice': '75,500.00'}, {'StrikePrice': '75,600.00'}, {'StrikePrice': '75,700.00'}, {'StrikePrice': '75,800.00'}, {'StrikePrice': '75,900.00'}, {'StrikePrice': '76,000.00'}, {'StrikePrice': '76,100.00'}, {'StrikePrice': '76,200.00'}, {'StrikePrice': '76,300.00'}, {'StrikePrice': '76,400.00'}, {'StrikePrice': '76,500.00'}, {'StrikePrice': '76,600.00'}, {'StrikePrice': '76,700.00'}, {'StrikePrice': '76,800.00'}, {'StrikePrice': '76,900.00'}, {'StrikePrice': '77,000.00'}, {'StrikePrice': '77,100.00'}, {'StrikePrice': '77,200.00'}, {'StrikePrice': '77,300.00'}, {'StrikePrice': '77,400.00'}, {'StrikePrice': '77,500.00'}, {'StrikePrice': '77,600.00'}, {'StrikePrice': '77,700.00'}, {'StrikePrice': '77,800.00'}, {'StrikePrice': '77,900.00'}, {'StrikePrice': '78,000.00'}, {'StrikePrice': '78,100.00'}, {'StrikePrice': '78,200.00'}, {'StrikePrice': '78,300.00'}, {'StrikePrice': '78,400.00'}, {'StrikePrice': '78,500.00'}, {'StrikePrice': '78,600.00'}, {'StrikePrice': '78,700.00'}, {'StrikePrice': '78,800.00'}, {'StrikePrice': '78,900.00'}, {'StrikePrice': '79,000.00'}, {'StrikePrice': '79,100.00'}, {'StrikePrice': '79,200.00'}, {'StrikePrice': '79,300.00'}, {'StrikePrice': '79,400.00'}, {'StrikePrice': '79,500.00'}, {'StrikePrice': '79,600.00'}, {'StrikePrice': '79,700.00'}, {'StrikePrice': '79,800.00'}, {'StrikePrice': '79,900.00'}, {'StrikePrice': '80,000.00'}, {'StrikePrice': '80,100.00'}, {'StrikePrice': '80,200.00'}, {'StrikePrice': '80,300.00'}, {'StrikePrice': '80,400.00'}, {'StrikePrice': '80,500.00'}, {'StrikePrice': '80,600.00'}, {'StrikePrice': '80,700.00'}, {'StrikePrice': '80,800.00'}, {'StrikePrice': '80,900.00'}, {'StrikePrice': '81,000.00'}, {'StrikePrice': '81,100.00'}, {'StrikePrice': '81,200.00'}, {'StrikePrice': '81,300.00'}, {'StrikePrice': '81,400.00'}, {'StrikePrice': '81,500.00'}, {'StrikePrice': '81,600.00'}, {'StrikePrice': '81,700.00'}, {'StrikePrice': '81,800.00'}, {'StrikePrice': '81,900.00'}, {'StrikePrice': '82,000.00'}, {'StrikePrice': '82,100.00'}, {'StrikePrice': '82,200.00'}, {'StrikePrice': '82,300.00'}, {'StrikePrice': '82,400.00'}, {'StrikePrice': '82,500.00'}, {'StrikePrice': '82,600.00'}, {'StrikePrice': '82,700.00'}, {'StrikePrice': '82,800.00'}, {'StrikePrice': '82,900.00'}, {'StrikePrice': '83,000.00'}, {'StrikePrice': '83,100.00'}, {'StrikePrice': '83,200.00'}, {'StrikePrice': '83,300.00'}, {'StrikePrice': '83,400.00'}, {'StrikePrice': '83,500.00'}, {'StrikePrice': '83,600.00'}, {'StrikePrice': '83,700.00'}, {'StrikePrice': '83,800.00'}, {'StrikePrice': '83,900.00'}, {'StrikePrice': '84,000.00'}, {'StrikePrice': '84,100.00'}, {'StrikePrice': '84,200.00'}, {'StrikePrice': '84,300.00'}, {'StrikePrice': '84,400.00'}, {'StrikePrice': '84,500.00'}, {'StrikePrice': '84,600.00'}, {'StrikePrice': '84,700.00'}, {'StrikePrice': '84,800.00'}, {'StrikePrice': '84,900.00'}, {'StrikePrice': '85,000.00'}, {'StrikePrice': '85,100.00'}, {'StrikePrice': '85,200.00'}, {'StrikePrice': '85,300.00'}, {'StrikePrice': '85,400.00'}, {'StrikePrice': '85,500.00'}, {'StrikePrice': '85,600.00'}, {'StrikePrice': '85,700.00'}, {'StrikePrice': '85,800.00'}, {'StrikePrice': '85,900.00'}, {'StrikePrice': '86,000.00'}, {'StrikePrice': '87,000.00'}], 'Table1': [{'ORDERDTTM': '8/23/2024 12:00:00 AM', 'ExpiryDate': '23 Aug 2024'}, {'ORDERDTTM': '8/30/2024 12:00:00 AM', 'ExpiryDate': '30 Aug 2024'}, {'ORDERDTTM': '9/6/2024 12:00:00 AM', 'ExpiryDate': '06 Sep 2024'}, {'ORDERDTTM': '9/13/2024 12:00:00 AM', 'ExpiryDate': '13 Sep 2024'}, {'ORDERDTTM': '9/20/2024 12:00:00 AM', 'ExpiryDate': '20 Sep 2024'}, {'ORDERDTTM': '9/27/2024 12:00:00 AM', 'ExpiryDate': '27 Sep 2024'}, {'ORDERDTTM': '10/4/2024 12:00:00 AM', 'ExpiryDate': '04 Oct 2024'}, {'ORDERDTTM': '10/25/2024 12:00:00 AM', 'ExpiryDate': '25 Oct 2024'}, {'ORDERDTTM': '12/27/2024 12:00:00 AM', 'ExpiryDate': '27 Dec 2024'}, {'ORDERDTTM': '3/28/2025 12:00:00 AM', 'ExpiryDate': '28 Mar 2025'}, {'ORDERDTTM': '6/27/2025 12:00:00 AM', 'ExpiryDate': '27 Jun 2025'}, {'ORDERDTTM': '12/26/2025 12:00:00 AM', 'ExpiryDate': '26 Dec 2025'}, {'ORDERDTTM': '6/26/2026 12:00:00 AM', 'ExpiryDate': '26 Jun 2026'}, {'ORDERDTTM': '12/25/2026 12:00:00 AM', 'ExpiryDate': '25 Dec 2026'}, {'ORDERDTTM': '6/25/2027 12:00:00 AM', 'ExpiryDate': '25 Jun 2027'}, {'ORDERDTTM': '12/31/2027 12:00:00 AM', 'ExpiryDate': '31 Dec 2027'}, {'ORDERDTTM': '6/30/2028 12:00:00 AM', 'ExpiryDate': '30 Jun 2028'}, {'ORDERDTTM': '12/29/2028 12:00:00 AM', 'ExpiryDate': '29 Dec 2028'}, {'ORDERDTTM': '6/29/2029 12:00:00 AM', 'ExpiryDate': '29 Jun 2029'}], 'Table2': [{'DisplayIndexName': 'BSE SENSEX', 'AssetTokenNumber': '1', 'UlaValue': '81030.97'}]}\n"
     ]
    },
    {
     "data": {
      "text/plain": [
       "['2024-08-23',\n",
       " '2024-08-30',\n",
       " '2024-09-06',\n",
       " '2024-09-13',\n",
       " '2024-09-20',\n",
       " '2024-09-27',\n",
       " '2024-10-04',\n",
       " '2024-10-25',\n",
       " '2024-12-27',\n",
       " '2025-03-28',\n",
       " '2025-06-27',\n",
       " '2025-12-26',\n",
       " '2026-06-26',\n",
       " '2026-12-25',\n",
       " '2027-06-25',\n",
       " '2027-12-31',\n",
       " '2028-06-30',\n",
       " '2028-12-29',\n",
       " '2029-06-29']"
      ]
     },
     "execution_count": 6,
     "metadata": {},
     "output_type": "execute_result"
    }
   ],
   "source": [
    "Broker.download_expiry_dates_bfo(Root.SENSEX)\n",
    "Broker.expiry_dates[Root.SENSEX]"
   ]
  },
  {
   "cell_type": "markdown",
   "metadata": {},
   "source": [
    "Expiry Dates for SENSEX"
   ]
  },
  {
   "cell_type": "code",
   "execution_count": 16,
   "metadata": {},
   "outputs": [
    {
     "name": "stderr",
     "output_type": "stream",
     "text": [
      "  % Total    % Received % Xferd  Average Speed   Time    Time     Time  Current\n",
      "                                 Dload  Upload   Total   Spent    Left  Speed\n",
      "100  6028  100  6028    0     0  45268      0 --:--:-- --:--:-- --:--:-- 45323\n",
      "  % Total    % Received % Xferd  Average Speed   Time    Time     Time  Current\n",
      "                                 Dload  Upload   Total   Spent    Left  Speed\n",
      "100  6028  100  6028    0     0  44964      0 --:--:-- --:--:-- --:--:-- 45323\n",
      "  % Total    % Received % Xferd  Average Speed   Time    Time     Time  Current\n",
      "                                 Dload  Upload   Total   Spent    Left  Speed\n",
      "100  6028  100  6028    0     0  45205      0 --:--:-- --:--:-- --:--:-- 45323\n",
      "  % Total    % Received % Xferd  Average Speed   Time    Time     Time  Current\n",
      "                                 Dload  Upload   Total   Spent    Left  Speed\n",
      "100  6028  100  6028    0     0  28005      0 --:--:-- --:--:-- --:--:-- 27907\n",
      "  % Total    % Received % Xferd  Average Speed   Time    Time     Time  Current\n",
      "                                 Dload  Upload   Total   Spent    Left  Speed\n",
      "100  6028  100  6028    0     0  46016      0 --:--:-- --:--:-- --:--:-- 46369\n"
     ]
    }
   ],
   "source": [
    "Broker.download_expiry_dates_bfo(Root.BANKEX)"
   ]
  },
  {
   "cell_type": "code",
   "execution_count": 17,
   "metadata": {},
   "outputs": [
    {
     "data": {
      "text/plain": [
       "{'MIDCPNIFTY': ['2024-08-26',\n",
       "  '2024-09-02',\n",
       "  '2024-09-09',\n",
       "  '2024-09-16',\n",
       "  '2024-09-23',\n",
       "  '2024-09-30',\n",
       "  '2024-10-28']}"
      ]
     },
     "execution_count": 17,
     "metadata": {},
     "output_type": "execute_result"
    }
   ],
   "source": [
    "Broker.expiry_dates"
   ]
  },
  {
   "cell_type": "code",
   "execution_count": null,
   "metadata": {},
   "outputs": [],
   "source": []
  }
 ],
 "metadata": {
  "kernelspec": {
   "display_name": "venv",
   "language": "python",
   "name": "python3"
  },
  "language_info": {
   "codemirror_mode": {
    "name": "ipython",
    "version": 3
   },
   "file_extension": ".py",
   "mimetype": "text/x-python",
   "name": "python",
   "nbconvert_exporter": "python",
   "pygments_lexer": "ipython3",
   "version": "3.12.5"
  }
 },
 "nbformat": 4,
 "nbformat_minor": 2
}
